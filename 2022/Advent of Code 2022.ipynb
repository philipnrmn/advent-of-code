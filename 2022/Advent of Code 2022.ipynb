{
 "cells": [
  {
   "cell_type": "code",
   "execution_count": 11,
   "id": "58e74830",
   "metadata": {},
   "outputs": [],
   "source": [
    "def _input(day: int) -> str:\n",
    "    with open(f\"inputs/{day}\") as f:\n",
    "        return f.read()"
   ]
  },
  {
   "cell_type": "code",
   "execution_count": 20,
   "id": "36d38c40",
   "metadata": {},
   "outputs": [],
   "source": [
    "def _grouplines(lines: str) -> [[str]]:\n",
    "    results = []\n",
    "    for group in lines.split(\"\\n\\n\"):\n",
    "        results.append(group.split(\"\\n\"))\n",
    "    return results"
   ]
  },
  {
   "cell_type": "code",
   "execution_count": 25,
   "id": "9a0be1c1",
   "metadata": {},
   "outputs": [
    {
     "data": {
      "text/plain": [
       "24000"
      ]
     },
     "execution_count": 25,
     "metadata": {},
     "output_type": "execute_result"
    }
   ],
   "source": [
    "def d1p1(lines: str) -> int:\n",
    "    largest = 0\n",
    "    for group in _grouplines(lines):\n",
    "        subtotal = 0\n",
    "        for line in group:\n",
    "            subtotal+=int(line)\n",
    "        if subtotal > largest:\n",
    "            largest = subtotal\n",
    "            \n",
    "    return largest\n",
    "        \n",
    "d1p1(\"\"\"1000\n",
    "2000\n",
    "3000\n",
    "\n",
    "4000\n",
    "\n",
    "5000\n",
    "6000\n",
    "\n",
    "7000\n",
    "8000\n",
    "9000\n",
    "\n",
    "10000\"\"\")"
   ]
  },
  {
   "cell_type": "code",
   "execution_count": 24,
   "id": "2bc46ea8",
   "metadata": {},
   "outputs": [
    {
     "data": {
      "text/plain": [
       "73211"
      ]
     },
     "execution_count": 24,
     "metadata": {},
     "output_type": "execute_result"
    }
   ],
   "source": [
    "d1p1(_input(1))"
   ]
  },
  {
   "cell_type": "code",
   "execution_count": 30,
   "id": "51fa3608",
   "metadata": {},
   "outputs": [
    {
     "data": {
      "text/plain": [
       "45000"
      ]
     },
     "execution_count": 30,
     "metadata": {},
     "output_type": "execute_result"
    }
   ],
   "source": [
    "def d1p2(lines: str) -> int:\n",
    "    totals = []\n",
    "    for group in _grouplines(lines):\n",
    "        subtotal = 0\n",
    "        for line in group:\n",
    "            subtotal+=int(line)\n",
    "        totals.append(subtotal)\n",
    "    \n",
    "    totals.sort(reverse=True)\n",
    "    return sum(totals[0:3])\n",
    "    \n",
    "        \n",
    "d1p2(\"\"\"1000\n",
    "2000\n",
    "3000\n",
    "\n",
    "4000\n",
    "\n",
    "5000\n",
    "6000\n",
    "\n",
    "7000\n",
    "8000\n",
    "9000\n",
    "\n",
    "10000\"\"\")"
   ]
  },
  {
   "cell_type": "code",
   "execution_count": 31,
   "id": "bb8ad692",
   "metadata": {},
   "outputs": [
    {
     "data": {
      "text/plain": [
       "213958"
      ]
     },
     "execution_count": 31,
     "metadata": {},
     "output_type": "execute_result"
    }
   ],
   "source": [
    "d1p2(_input(1))"
   ]
  },
  {
   "cell_type": "code",
   "execution_count": null,
   "id": "4b018245",
   "metadata": {},
   "outputs": [],
   "source": []
  }
 ],
 "metadata": {
  "kernelspec": {
   "display_name": "Python 3 (ipykernel)",
   "language": "python",
   "name": "python3"
  },
  "language_info": {
   "codemirror_mode": {
    "name": "ipython",
    "version": 3
   },
   "file_extension": ".py",
   "mimetype": "text/x-python",
   "name": "python",
   "nbconvert_exporter": "python",
   "pygments_lexer": "ipython3",
   "version": "3.10.8"
  }
 },
 "nbformat": 4,
 "nbformat_minor": 5
}
