{
 "cells": [
  {
   "cell_type": "code",
   "execution_count": 11,
   "id": "58e74830",
   "metadata": {},
   "outputs": [],
   "source": [
    "def _input(day: int) -> str:\n",
    "    with open(f\"inputs/{day}\") as f:\n",
    "        return f.read().strip()"
   ]
  },
  {
   "cell_type": "code",
   "execution_count": 66,
   "id": "36d38c40",
   "metadata": {},
   "outputs": [],
   "source": [
    "def _grouplines(lines: str) -> [[str]]:\n",
    "    results = []\n",
    "    for group in lines.split(\"\\n\\n\"):\n",
    "        results.append(group.split(\"\\n\"))\n",
    "    return results\n",
    "\n",
    "\n",
    "def _groupbysize(_lines: str, size: int) -> [[str]]:\n",
    "    result = []\n",
    "    lines = _lines.split(\"\\n\")\n",
    "    for i in range(0, len(lines), size):\n",
    "        result.append(lines[i:i+size])\n",
    "        \n",
    "    return result\n",
    "\n",
    "\n",
    "def _chartoint(c: str) -> int:\n",
    "    o = ord(c)\n",
    "    if o >= 97:\n",
    "        return o-96\n",
    "    else:\n",
    "        return o-38\n",
    "\n",
    "\n",
    "def _parsestack(stack: str) -> dict[int,[str]]:\n",
    "    result = {}\n",
    "    lines = stack.split(\"\\n\")\n",
    "    header = lines[-1]\n",
    "    for i in range(0, len(header)):\n",
    "        c = header[i]\n",
    "        if c != \" \":\n",
    "            result[c] = [line[i] for line in lines[:-1] if line[i] != \" \"]\n",
    "            \n",
    "    return result"
   ]
  },
  {
   "cell_type": "code",
   "execution_count": 25,
   "id": "9a0be1c1",
   "metadata": {},
   "outputs": [
    {
     "data": {
      "text/plain": [
       "24000"
      ]
     },
     "execution_count": 25,
     "metadata": {},
     "output_type": "execute_result"
    }
   ],
   "source": [
    "def d1p1(lines: str) -> int:\n",
    "    largest = 0\n",
    "    for group in _grouplines(lines):\n",
    "        subtotal = 0\n",
    "        for line in group:\n",
    "            subtotal+=int(line)\n",
    "        if subtotal > largest:\n",
    "            largest = subtotal\n",
    "            \n",
    "    return largest\n",
    "        \n",
    "d1p1(\"\"\"1000\n",
    "2000\n",
    "3000\n",
    "\n",
    "4000\n",
    "\n",
    "5000\n",
    "6000\n",
    "\n",
    "7000\n",
    "8000\n",
    "9000\n",
    "\n",
    "10000\"\"\")"
   ]
  },
  {
   "cell_type": "code",
   "execution_count": 24,
   "id": "2bc46ea8",
   "metadata": {},
   "outputs": [
    {
     "data": {
      "text/plain": [
       "73211"
      ]
     },
     "execution_count": 24,
     "metadata": {},
     "output_type": "execute_result"
    }
   ],
   "source": [
    "d1p1(_input(1))"
   ]
  },
  {
   "cell_type": "code",
   "execution_count": 30,
   "id": "51fa3608",
   "metadata": {},
   "outputs": [
    {
     "data": {
      "text/plain": [
       "45000"
      ]
     },
     "execution_count": 30,
     "metadata": {},
     "output_type": "execute_result"
    }
   ],
   "source": [
    "def d1p2(lines: str) -> int:\n",
    "    totals = []\n",
    "    for group in _grouplines(lines):\n",
    "        subtotal = 0\n",
    "        for line in group:\n",
    "            subtotal+=int(line)\n",
    "        totals.append(subtotal)\n",
    "    \n",
    "    totals.sort(reverse=True)\n",
    "    return sum(totals[0:3])\n",
    "    \n",
    "        \n",
    "d1p2(\"\"\"1000\n",
    "2000\n",
    "3000\n",
    "\n",
    "4000\n",
    "\n",
    "5000\n",
    "6000\n",
    "\n",
    "7000\n",
    "8000\n",
    "9000\n",
    "\n",
    "10000\"\"\")"
   ]
  },
  {
   "cell_type": "code",
   "execution_count": 31,
   "id": "bb8ad692",
   "metadata": {},
   "outputs": [
    {
     "data": {
      "text/plain": [
       "213958"
      ]
     },
     "execution_count": 31,
     "metadata": {},
     "output_type": "execute_result"
    }
   ],
   "source": [
    "d1p2(_input(1))"
   ]
  },
  {
   "cell_type": "code",
   "execution_count": 6,
   "id": "4b018245",
   "metadata": {},
   "outputs": [
    {
     "data": {
      "text/plain": [
       "15"
      ]
     },
     "execution_count": 6,
     "metadata": {},
     "output_type": "execute_result"
    }
   ],
   "source": [
    "def d2p1(lines: str) -> int:\n",
    "    vals = {\"A\": 1, \"B\": 2, \"C\": 3, \"X\": 1, \"Y\": 2, \"Z\": 3}\n",
    "    score = 0\n",
    "    for line in lines.split(\"\\n\"):\n",
    "        elf, me = line.split(\" \")\n",
    "        ev = vals[elf]\n",
    "        mv = vals[me]\n",
    "        \n",
    "        if ev == mv:\n",
    "            score += 3 + mv\n",
    "        elif ev == 1 and mv == 3:\n",
    "            score += mv\n",
    "        elif ev == 3 and mv == 1:\n",
    "            score += 6 + mv\n",
    "        elif ev > mv:\n",
    "            score += mv\n",
    "        else:\n",
    "            score += 6 + mv\n",
    "            \n",
    "    return score\n",
    "\n",
    "d2p1(\"\"\"A Y\n",
    "B X\n",
    "C Z\"\"\")"
   ]
  },
  {
   "cell_type": "code",
   "execution_count": 14,
   "id": "6c372ce1",
   "metadata": {},
   "outputs": [
    {
     "data": {
      "text/plain": [
       "13682"
      ]
     },
     "execution_count": 14,
     "metadata": {},
     "output_type": "execute_result"
    }
   ],
   "source": [
    "d2p1(_input(2))"
   ]
  },
  {
   "cell_type": "code",
   "execution_count": 8,
   "id": "6b31c4aa",
   "metadata": {},
   "outputs": [
    {
     "data": {
      "text/plain": [
       "12"
      ]
     },
     "execution_count": 8,
     "metadata": {},
     "output_type": "execute_result"
    }
   ],
   "source": [
    "def d2p2(lines: str) -> int:\n",
    "    tlines = []\n",
    "    tl = {\n",
    "        \"A\": {\"X\": \"C\", \"Y\": \"A\", \"Z\": \"B\"},\n",
    "        \"B\": {\"X\": \"A\", \"Y\": \"B\", \"Z\": \"C\"},\n",
    "        \"C\": {\"X\": \"B\", \"Y\": \"C\", \"Z\": \"A\"}\n",
    "    }\n",
    "    \n",
    "    for line in lines.split(\"\\n\"):\n",
    "        elf, me = line.split(\" \")\n",
    "        tlines.append(f\"{elf} {tl[elf][me]}\")\n",
    "        \n",
    "    return d2p1(\"\\n\".join(tlines))\n",
    "\n",
    "            \n",
    "d2p2(\"\"\"A Y\n",
    "B X\n",
    "C Z\"\"\")"
   ]
  },
  {
   "cell_type": "code",
   "execution_count": 12,
   "id": "146d0160",
   "metadata": {},
   "outputs": [
    {
     "data": {
      "text/plain": [
       "12881"
      ]
     },
     "execution_count": 12,
     "metadata": {},
     "output_type": "execute_result"
    }
   ],
   "source": [
    "d2p2(_input(2))"
   ]
  },
  {
   "cell_type": "code",
   "execution_count": 21,
   "id": "9c2a184e",
   "metadata": {},
   "outputs": [
    {
     "data": {
      "text/plain": [
       "157"
      ]
     },
     "execution_count": 21,
     "metadata": {},
     "output_type": "execute_result"
    }
   ],
   "source": [
    "def d3p1(lines: str) -> int:\n",
    "    items = []\n",
    "    for line in lines.split(\"\\n\"):\n",
    "        midpoint = int(len(line)/2)\n",
    "        c1 = set(line[:midpoint])\n",
    "        c2 = set(line[midpoint:])\n",
    "        items.extend(c1.intersection(c2))\n",
    "        \n",
    "    result = 0\n",
    "    for item in items:\n",
    "        result+=_chartoint(item)\n",
    "        \n",
    "            \n",
    "    return result\n",
    "            \n",
    "d3p1(\"\"\"vJrwpWtwJgWrhcsFMMfFFhFp\n",
    "jqHRNqRjqzjGDLGLrsFMfFZSrLrFZsSL\n",
    "PmmdzqPrVvPwwTWBwg\n",
    "wMqvLMZHhHMvwLHjbvcjnnSBnvTQFn\n",
    "ttgJtRGJQctTZtZT\n",
    "CrZsJsPPZsGzwwsLwLmpwMDw\"\"\")"
   ]
  },
  {
   "cell_type": "code",
   "execution_count": 22,
   "id": "2c983663",
   "metadata": {},
   "outputs": [
    {
     "data": {
      "text/plain": [
       "8394"
      ]
     },
     "execution_count": 22,
     "metadata": {},
     "output_type": "execute_result"
    }
   ],
   "source": [
    "d3p1(_input(3))"
   ]
  },
  {
   "cell_type": "code",
   "execution_count": 44,
   "id": "f7a1a1a1",
   "metadata": {},
   "outputs": [
    {
     "data": {
      "text/plain": [
       "70"
      ]
     },
     "execution_count": 44,
     "metadata": {},
     "output_type": "execute_result"
    }
   ],
   "source": [
    "def d3p2(lines: str) -> int:\n",
    "    result = 0\n",
    "    for group in _groupbysize(lines, 3):\n",
    "        common = set(group[0]).intersection(set(group[1])).intersection(set(group[2]))\n",
    "        result += _chartoint(''.join(common))\n",
    "        \n",
    "    return result\n",
    "\n",
    "\n",
    "d3p2(\"\"\"vJrwpWtwJgWrhcsFMMfFFhFp\n",
    "jqHRNqRjqzjGDLGLrsFMfFZSrLrFZsSL\n",
    "PmmdzqPrVvPwwTWBwg\n",
    "wMqvLMZHhHMvwLHjbvcjnnSBnvTQFn\n",
    "ttgJtRGJQctTZtZT\n",
    "CrZsJsPPZsGzwwsLwLmpwMDw\"\"\")"
   ]
  },
  {
   "cell_type": "code",
   "execution_count": 45,
   "id": "bd121b62",
   "metadata": {},
   "outputs": [
    {
     "data": {
      "text/plain": [
       "2413"
      ]
     },
     "execution_count": 45,
     "metadata": {},
     "output_type": "execute_result"
    }
   ],
   "source": [
    "d3p2(_input(3))"
   ]
  },
  {
   "cell_type": "code",
   "execution_count": 51,
   "id": "97e74b2b",
   "metadata": {},
   "outputs": [
    {
     "data": {
      "text/plain": [
       "2"
      ]
     },
     "execution_count": 51,
     "metadata": {},
     "output_type": "execute_result"
    }
   ],
   "source": [
    "def d4p1(lines: str) -> int:\n",
    "    result = 0\n",
    "    for line in lines.split(\"\\n\"):\n",
    "        elf1, elf2 = line.split(\",\")\n",
    "        s1, e1 = [int(x) for x in elf1.split(\"-\")]\n",
    "        s2, e2 = [int(x) for x in elf2.split(\"-\")]\n",
    "        \n",
    "        if s1 >= s2 and e1 <= e2:\n",
    "            result+=1\n",
    "        elif s2 >= s1 and e2 <= e1:\n",
    "            result+=1\n",
    "            \n",
    "    return result\n",
    "\n",
    "\n",
    "d4p1(\"\"\"2-4,6-8\n",
    "2-3,4-5\n",
    "5-7,7-9\n",
    "2-8,3-7\n",
    "6-6,4-6\n",
    "2-6,4-8\"\"\")"
   ]
  },
  {
   "cell_type": "code",
   "execution_count": 52,
   "id": "91b67497",
   "metadata": {},
   "outputs": [
    {
     "data": {
      "text/plain": [
       "515"
      ]
     },
     "execution_count": 52,
     "metadata": {},
     "output_type": "execute_result"
    }
   ],
   "source": [
    "d4p1(_input(4))"
   ]
  },
  {
   "cell_type": "code",
   "execution_count": 56,
   "id": "1adc474d",
   "metadata": {},
   "outputs": [
    {
     "data": {
      "text/plain": [
       "4"
      ]
     },
     "execution_count": 56,
     "metadata": {},
     "output_type": "execute_result"
    }
   ],
   "source": [
    "def d4p2(lines: str) -> int:\n",
    "    result = 0\n",
    "    for line in lines.split(\"\\n\"):\n",
    "        elf1, elf2 = line.split(\",\")\n",
    "        s1, e1 = [int(x) for x in elf1.split(\"-\")]\n",
    "        s2, e2 = [int(x) for x in elf2.split(\"-\")]\n",
    "        \n",
    "        sec1 = set(range(s1, e1+1))\n",
    "        sec2 = set(range(s2, e2+1))\n",
    "        \n",
    "        if len(sec1.intersection(sec2)) > 0:\n",
    "            result+=1\n",
    "            \n",
    "    return result\n",
    "\n",
    "\n",
    "d4p2(\"\"\"2-4,6-8\n",
    "2-3,4-5\n",
    "5-7,7-9\n",
    "2-8,3-7\n",
    "6-6,4-6\n",
    "2-6,4-8\"\"\")"
   ]
  },
  {
   "cell_type": "code",
   "execution_count": 57,
   "id": "5c0a1398",
   "metadata": {},
   "outputs": [
    {
     "data": {
      "text/plain": [
       "883"
      ]
     },
     "execution_count": 57,
     "metadata": {},
     "output_type": "execute_result"
    }
   ],
   "source": [
    "d4p2(_input(4))"
   ]
  },
  {
   "cell_type": "code",
   "execution_count": 83,
   "id": "c92cf80c",
   "metadata": {},
   "outputs": [
    {
     "data": {
      "text/plain": [
       "'CMZ'"
      ]
     },
     "execution_count": 83,
     "metadata": {},
     "output_type": "execute_result"
    }
   ],
   "source": [
    "def d5p1(lines: str) -> int:\n",
    "    unparsed_stack, instructions = lines.split(\"\\n\\n\")\n",
    "    \n",
    "    stack = _parsestack(unparsed_stack)\n",
    "    for i in instructions.split(\"\\n\"):\n",
    "        words = i.split(\" \")\n",
    "        qty = int(words[1])\n",
    "        _from = words[3]\n",
    "        to = words[5]\n",
    "        \n",
    "        stack[to][:0] = stack[_from][0:qty][::-1]\n",
    "        del stack[_from][0:qty]\n",
    "        \n",
    "    result = \"\"\n",
    "    for i in stack:\n",
    "        result+=stack[i][0]\n",
    "    \n",
    "    return result\n",
    "        \n",
    "d5p1(\"\"\"    [D]    \n",
    "[N] [C]    \n",
    "[Z] [M] [P]\n",
    " 1   2   3 \n",
    "\n",
    "move 1 from 2 to 1\n",
    "move 3 from 1 to 3\n",
    "move 2 from 2 to 1\n",
    "move 1 from 1 to 2\"\"\")"
   ]
  },
  {
   "cell_type": "code",
   "execution_count": 84,
   "id": "599db24a",
   "metadata": {},
   "outputs": [
    {
     "data": {
      "text/plain": [
       "'SVFDLGLWV'"
      ]
     },
     "execution_count": 84,
     "metadata": {},
     "output_type": "execute_result"
    }
   ],
   "source": [
    "d5p1(_input(5))"
   ]
  },
  {
   "cell_type": "code",
   "execution_count": 85,
   "id": "ee34e0d6",
   "metadata": {},
   "outputs": [
    {
     "data": {
      "text/plain": [
       "'MCD'"
      ]
     },
     "execution_count": 85,
     "metadata": {},
     "output_type": "execute_result"
    }
   ],
   "source": [
    "def d5p2(lines: str) -> int:\n",
    "    unparsed_stack, instructions = lines.split(\"\\n\\n\")\n",
    "    \n",
    "    stack = _parsestack(unparsed_stack)\n",
    "    for i in instructions.split(\"\\n\"):\n",
    "        words = i.split(\" \")\n",
    "        qty = int(words[1])\n",
    "        _from = words[3]\n",
    "        to = words[5]\n",
    "        \n",
    "        stack[to][:0] = stack[_from][0:qty]\n",
    "        del stack[_from][0:qty]\n",
    "        \n",
    "    result = \"\"\n",
    "    for i in stack:\n",
    "        result+=stack[i][0]\n",
    "    \n",
    "    return result\n",
    "        \n",
    "d5p2(\"\"\"    [D]    \n",
    "[N] [C]    \n",
    "[Z] [M] [P]\n",
    " 1   2   3 \n",
    "\n",
    "move 1 from 2 to 1\n",
    "move 3 from 1 to 3\n",
    "move 2 from 2 to 1\n",
    "move 1 from 1 to 2\"\"\")"
   ]
  },
  {
   "cell_type": "code",
   "execution_count": 86,
   "id": "87856604",
   "metadata": {},
   "outputs": [
    {
     "data": {
      "text/plain": [
       "'DCVTCVPCL'"
      ]
     },
     "execution_count": 86,
     "metadata": {},
     "output_type": "execute_result"
    }
   ],
   "source": [
    "d5p2(_input(5))"
   ]
  },
  {
   "cell_type": "code",
   "execution_count": 90,
   "id": "9a9eb70f",
   "metadata": {},
   "outputs": [
    {
     "name": "stdout",
     "output_type": "stream",
     "text": [
      "7\n",
      "5\n",
      "6\n",
      "10\n",
      "11\n"
     ]
    }
   ],
   "source": [
    "def d6p1(line: str) -> int:\n",
    "    for i in range(len(line)-4):\n",
    "        if len(set(line[i:i+4])) == 4:\n",
    "            return i+4\n",
    "    \n",
    "print(d6p1(\"mjqjpqmgbljsphdztnvjfqwrcgsmlb\"))\n",
    "print(d6p1(\"bvwbjplbgvbhsrlpgdmjqwftvncz\"))\n",
    "print(d6p1(\"nppdvjthqldpwncqszvftbrmjlhg\"))\n",
    "print(d6p1(\"nznrnfrfntjfmvfwmzdfjlvtqnbhcprsg\"))\n",
    "print(d6p1(\"zcfzfwzzqfrljwzlrfnpqdbhtmscgvjw\"))"
   ]
  },
  {
   "cell_type": "code",
   "execution_count": 91,
   "id": "68f9f9b0",
   "metadata": {},
   "outputs": [
    {
     "data": {
      "text/plain": [
       "1912"
      ]
     },
     "execution_count": 91,
     "metadata": {},
     "output_type": "execute_result"
    }
   ],
   "source": [
    "d6p1(_input(6))"
   ]
  },
  {
   "cell_type": "code",
   "execution_count": 93,
   "id": "059e8ea1",
   "metadata": {},
   "outputs": [
    {
     "name": "stdout",
     "output_type": "stream",
     "text": [
      "19\n",
      "23\n",
      "23\n",
      "29\n",
      "26\n"
     ]
    }
   ],
   "source": [
    "def d6p2(line: str) -> int:\n",
    "    for i in range(len(line)-14):\n",
    "        if len(set(line[i:i+14])) == 14:\n",
    "            return i+14\n",
    "    \n",
    "print(d6p2(\"mjqjpqmgbljsphdztnvjfqwrcgsmlb\"))\n",
    "print(d6p2(\"bvwbjplbgvbhsrlpgdmjqwftvncz\"))\n",
    "print(d6p2(\"nppdvjthqldpwncqszvftbrmjlhg\"))\n",
    "print(d6p2(\"nznrnfrfntjfmvfwmzdfjlvtqnbhcprsg\"))\n",
    "print(d6p2(\"zcfzfwzzqfrljwzlrfnpqdbhtmscgvjw\"))"
   ]
  },
  {
   "cell_type": "code",
   "execution_count": 94,
   "id": "67888f40",
   "metadata": {},
   "outputs": [
    {
     "data": {
      "text/plain": [
       "2122"
      ]
     },
     "execution_count": 94,
     "metadata": {},
     "output_type": "execute_result"
    }
   ],
   "source": [
    "d6p2(_input(6))"
   ]
  },
  {
   "cell_type": "code",
   "execution_count": null,
   "id": "eee3e5e0",
   "metadata": {},
   "outputs": [],
   "source": []
  }
 ],
 "metadata": {
  "kernelspec": {
   "display_name": "Python 3 (ipykernel)",
   "language": "python",
   "name": "python3"
  },
  "language_info": {
   "codemirror_mode": {
    "name": "ipython",
    "version": 3
   },
   "file_extension": ".py",
   "mimetype": "text/x-python",
   "name": "python",
   "nbconvert_exporter": "python",
   "pygments_lexer": "ipython3",
   "version": "3.9.6"
  }
 },
 "nbformat": 4,
 "nbformat_minor": 5
}
